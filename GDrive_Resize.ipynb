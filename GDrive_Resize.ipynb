{
  "nbformat": 4,
  "nbformat_minor": 0,
  "metadata": {
    "colab": {
      "name": "GDrive Resize.ipynb",
      "provenance": [],
      "collapsed_sections": [],
      "toc_visible": true,
      "include_colab_link": true
    },
    "kernelspec": {
      "name": "python3",
      "display_name": "Python 3"
    },
    "accelerator": "GPU"
  },
  "cells": [
    {
      "cell_type": "markdown",
      "metadata": {
        "id": "view-in-github",
        "colab_type": "text"
      },
      "source": [
        "<a href=\"https://colab.research.google.com/github/pacocable/Food.AI/blob/master/GDrive_Resize.ipynb\" target=\"_parent\"><img src=\"https://colab.research.google.com/assets/colab-badge.svg\" alt=\"Open In Colab\"/></a>"
      ]
    },
    {
      "cell_type": "markdown",
      "metadata": {
        "id": "yhzxsJb3dpWq"
      },
      "source": [
        "#Resize Images on your Google Drive"
      ]
    },
    {
      "cell_type": "markdown",
      "metadata": {
        "id": "w4V-XE6kbkc1"
      },
      "source": [
        "## Clone the `object_detection_demo_flow` repository which also contains the resize script"
      ]
    },
    {
      "cell_type": "code",
      "metadata": {
        "id": "dxc3DmvLQF3z",
        "colab": {
          "base_uri": "https://localhost:8080/"
        },
        "outputId": "bb383fdf-a7a0-45fa-eaa9-151bf57af4c6"
      },
      "source": [
        "repo_url = 'https://github.com/GotG/object_detection_demo_flow'\n",
        "import os\n",
        "%cd /content\n",
        "repo_dir_path = os.path.abspath(os.path.join('.', os.path.basename(repo_url)))\n",
        "!git clone {repo_url}\n",
        "%cd {repo_dir_path}\n",
        "!git pull"
      ],
      "execution_count": null,
      "outputs": [
        {
          "output_type": "stream",
          "text": [
            "/content\n",
            "Cloning into 'object_detection_demo_flow'...\n",
            "remote: Enumerating objects: 3035, done.\u001b[K\n",
            "remote: Total 3035 (delta 0), reused 0 (delta 0), pack-reused 3035\u001b[K\n",
            "Receiving objects: 100% (3035/3035), 229.08 MiB | 31.97 MiB/s, done.\n",
            "Resolving deltas: 100% (1375/1375), done.\n",
            "Checking out files: 100% (2796/2796), done.\n",
            "/content/object_detection_demo_flow\n",
            "Already up to date.\n"
          ],
          "name": "stdout"
        }
      ]
    },
    {
      "cell_type": "markdown",
      "metadata": {
        "id": "6LnZjgF4N71_"
      },
      "source": [
        "#Mount your google drive"
      ]
    },
    {
      "cell_type": "code",
      "metadata": {
        "id": "KPahiXuPNQwX",
        "colab": {
          "base_uri": "https://localhost:8080/"
        },
        "outputId": "5b795c54-8690-4c38-e1da-8e3f2564e731"
      },
      "source": [
        "#mount your google drive.\n",
        "#it will be visible in the file navigator on the left of this notebook\n",
        "#there should be a folder in your drive with your data\n",
        "from google.colab import drive\n",
        "drive.mount('/content/gdrive')"
      ],
      "execution_count": null,
      "outputs": [
        {
          "output_type": "stream",
          "text": [
            "Mounted at /content/gdrive\n"
          ],
          "name": "stdout"
        }
      ]
    },
    {
      "cell_type": "markdown",
      "metadata": {
        "id": "RGfk0O7opzA_"
      },
      "source": [
        "# From the file browser on the left go to gdrive/My Drive and find your image folder, right click and copy the path, then paste it after --raw-dir between ' '\n",
        "# Make a new folder for the resized images\n",
        "# Resize the images in the folder(s) on your gdrive using the cell below\n",
        "\n",
        "--raw-dir is the path to the folder containing the images to be resized\n",
        "--save-dir is the path to the folder where to save the resized images\n",
        "--ext jpg  assigns the jpg extension to the resized files\n",
        "--target-size is the desired size"
      ]
    },
    {
      "cell_type": "code",
      "metadata": {
        "id": "uvXWk5aKmXZ2"
      },
      "source": [
        "!python resize_images.py --raw-dir '/content/gdrive/My Drive/data/3fruit/train_fruit' --save-dir '/content/gdrive/My Drive/data/3fruit/resizedtrain' --ext jpg --target-size \"(800,600)\""
      ],
      "execution_count": null,
      "outputs": []
    },
    {
      "cell_type": "code",
      "metadata": {
        "id": "Qyl2PyyVnQwH",
        "colab": {
          "base_uri": "https://localhost:8080/"
        },
        "outputId": "86563984-91ad-4620-d06c-81c4b433ef6f"
      },
      "source": [
        "!python resize_images.py --raw-dir '/content/gdrive/My Drive/data/apple_pie' --save-dir '/content/gdrive/My Drive/data/apple_pie_resized' --ext jpg --target-size \"(300,300)\""
      ],
      "execution_count": null,
      "outputs": [
        {
          "output_type": "stream",
          "text": [
            "1000 files to resize from directory `/content/gdrive/My Drive/data/apple_pie` to target size:(300, 300)\n",
            "........................................................................................................................................................................................................................................................................................................................................................................................................................................................................................................................................................................................................................................................................................................................................................................................................................................................................................................................................................................................................................................\n",
            "Done resizing 1000 files.\n",
            "Saved to directory: `/content/gdrive/My Drive/data/apple_pie_resized`\n"
          ],
          "name": "stdout"
        }
      ]
    },
    {
      "cell_type": "code",
      "metadata": {
        "id": "mPlDgYhvbCVk",
        "colab": {
          "base_uri": "https://localhost:8080/"
        },
        "outputId": "ae788bb0-3bfc-42a5-c684-880a95b9e7eb"
      },
      "source": [
        "!python resize_images.py --raw-dir '/content/gdrive/My Drive/data/baby_back_ribs' --save-dir '/content/gdrive/My Drive/data/baby_back_ribs_resized_300x300' --ext jpg --target-size \"(300,300)\""
      ],
      "execution_count": null,
      "outputs": [
        {
          "output_type": "stream",
          "text": [
            "957 files to resize from directory `/content/gdrive/My Drive/data/baby_back_ribs` to target size:(300, 300)\n",
            ".............................................................................................................................................................................................................................................................................................................................................................................................................................................................................................................................................................................................................................................................................................................................................................................................................................................................................................................................................................................................\n",
            "Done resizing 957 files.\n",
            "Saved to directory: `/content/gdrive/My Drive/data/baby_back_ribs_resized_300x300`\n"
          ],
          "name": "stdout"
        }
      ]
    },
    {
      "cell_type": "code",
      "metadata": {
        "id": "-JJFPyCodbFN",
        "colab": {
          "base_uri": "https://localhost:8080/"
        },
        "outputId": "decc76de-34d8-446d-ab70-68239c26f1fc"
      },
      "source": [
        "!python resize_images.py --raw-dir '/content/gdrive/My Drive/data/baklava' --save-dir '/content/gdrive/My Drive/data/baklava_resized_300x300' --ext jpg --target-size \"(300,300)"
      ],
      "execution_count": null,
      "outputs": [
        {
          "output_type": "stream",
          "text": [
            "/bin/bash: -c: line 0: unexpected EOF while looking for matching `\"'\n",
            "/bin/bash: -c: line 1: syntax error: unexpected end of file\n"
          ],
          "name": "stdout"
        }
      ]
    }
  ]
}